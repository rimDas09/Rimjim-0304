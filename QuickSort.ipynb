{
  "nbformat": 4,
  "nbformat_minor": 0,
  "metadata": {
    "colab": {
      "name": "Untitled2.ipynb",
      "provenance": [],
      "collapsed_sections": [],
      "authorship_tag": "ABX9TyPmiLe1hRCTrHs2iJGrSJ6N",
      "include_colab_link": true
    },
    "kernelspec": {
      "name": "python3",
      "display_name": "Python 3"
    }
  },
  "cells": [
    {
      "cell_type": "markdown",
      "metadata": {
        "id": "view-in-github",
        "colab_type": "text"
      },
      "source": [
        "<a href=\"https://colab.research.google.com/github/rimDas09/Rimjim-0304/blob/master/QuickSort.ipynb\" target=\"_parent\"><img src=\"https://colab.research.google.com/assets/colab-badge.svg\" alt=\"Open In Colab\"/></a>"
      ]
    },
    {
      "cell_type": "code",
      "metadata": {
        "id": "0Dp-EIW7zz8q",
        "colab": {
          "base_uri": "https://localhost:8080/"
        },
        "outputId": "f1e3a588-6ccd-4165-b280-13900c1e4ba0"
      },
      "source": [
        "  def partition(arr, low, high):\r\n",
        "    i = (low-1)        \r\n",
        "    pivot = arr[high]    \r\n",
        " \r\n",
        "    for j in range(low, high):\r\n",
        "\r\n",
        "        if arr[j] <= pivot:\r\n",
        " \r\n",
        "            i = i+1\r\n",
        "            arr[i], arr[j] = arr[j], arr[i]\r\n",
        " \r\n",
        "    arr[i+1], arr[high] = arr[high], arr[i+1]\r\n",
        "    return (i+1)\r\n",
        " \r\n",
        "def quickSort(arr, low, high):\r\n",
        "    if len(arr) == 1:\r\n",
        "        return arr\r\n",
        "    if low < high:\r\n",
        " \r\n",
        "        pi = partition(arr, low, high)\r\n",
        "\r\n",
        "        quickSort(arr, low, pi-1)\r\n",
        "        quickSort(arr, pi+1, high)\r\n",
        " \r\n",
        " \r\n",
        "# Driver code to test above\r\n",
        "arr = [3, 6, 8, 10, 1, 2, 1]\r\n",
        "n = len(arr)\r\n",
        "quickSort(arr, 0, n-1)\r\n",
        "print(\"Sorted array is:\")\r\n",
        "for i in range(n):\r\n",
        "    print(\"%d\" % arr[i]),"
      ],
      "execution_count": 1,
      "outputs": [
        {
          "output_type": "stream",
          "text": [
            "Sorted array is:\n",
            "1\n",
            "1\n",
            "2\n",
            "3\n",
            "6\n",
            "8\n",
            "10\n"
          ],
          "name": "stdout"
        }
      ]
    }
  ]
}