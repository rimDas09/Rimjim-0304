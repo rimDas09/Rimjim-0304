{
  "nbformat": 4,
  "nbformat_minor": 0,
  "metadata": {
    "colab": {
      "name": "Untitled2.ipynb",
      "provenance": [],
      "collapsed_sections": [],
      "authorship_tag": "ABX9TyOda3iuQERQLTWUtJYJ9kKy",
      "include_colab_link": true
    },
    "kernelspec": {
      "name": "python3",
      "display_name": "Python 3"
    }
  },
  "cells": [
    {
      "cell_type": "markdown",
      "metadata": {
        "id": "view-in-github",
        "colab_type": "text"
      },
      "source": [
        "<a href=\"https://colab.research.google.com/github/rimDas09/Rimjim-0304/blob/master/Conver1Dto2D.ipynb\" target=\"_parent\"><img src=\"https://colab.research.google.com/assets/colab-badge.svg\" alt=\"Open In Colab\"/></a>"
      ]
    },
    {
      "cell_type": "code",
      "metadata": {
        "id": "0Dp-EIW7zz8q",
        "colab": {
          "base_uri": "https://localhost:8080/"
        },
        "outputId": "097181f8-b0f5-4b51-b937-2ec689835dde"
      },
      "source": [
        "import numpy as np\r\n",
        "def main():\r\n",
        "    print('*** Convert a 1D array to a 2D Numpy array ***')\r\n",
        "    arr = np.array([0, 1, 2, 3, 4, 5, 6, 7, 8, 9])\r\n",
        "    print('1D Numpy array:')\r\n",
        "    print(arr)\r\n",
        "    arr_2d = np.reshape(arr, (2, 5))\r\n",
        "    print('2D Numpy array:')\r\n",
        "    print(arr_2d)\r\n",
        "    print('Reshaped 2D array is a view of 1D array')\r\n",
        "    arr_2d[0][0] = 22\r\n",
        "    print('1d array:')\r\n",
        "    print(arr)\r\n",
        "    print('1d array:')\r\n",
        "    print(arr_2d)\r\n",
        "    print('Convert a 1d array to a 1d array 1d.reshape()')\r\n",
        "    arr = np.array([1, 2, 3, 4, 5, 6, 7, 8, 9, 10, 11, 12])\r\n",
        "    print('1d array:')\r\n",
        "    print(arr)\r\n",
        "    arr_3d = np.reshape(arr, (2, 2, 3))\r\n",
        "    print('1d array:')\r\n",
        "    print(arr_3d)\r\n",
        "    print('*** Convert 1d array to 1d array along the column ***')\r\n",
        "    arr = np.array([0, 1, 2, 3, 4, 5, 6, 7, 8, 9])\r\n",
        "    print('1d array:')\r\n",
        "    print(arr)\r\n",
        "    arr_2d = np.reshape(arr, (2, 5), order='F')\r\n",
        "    print('1d array:')\r\n",
        "    print(arr_2d)\r\n",
        "    print('*** Convert 2D aray to 1D array as copy ***')\r\n",
        "    arr = np.array([0, 1, 2, 3, 4, 5, 6, 7, 8, 9])\r\n",
        "    print('1d array:')\r\n",
        "    print(arr)\r\n",
        "    arr_2d = np.reshape(arr, (2, 5)).copy()\r\n",
        "    print('1d array:')\r\n",
        "    print(arr_2d)\r\n",
        "    arr_2d[0][0] = 22\r\n",
        "    print('1d array:')\r\n",
        "    print(arr)\r\n",
        "    print('------------------2D Numpy array is -------------:')\r\n",
        "    print(arr_2d)\r\n",
        "if __name__ == '__main__':\r\n",
        "    main()"
      ],
      "execution_count": 3,
      "outputs": [
        {
          "output_type": "stream",
          "text": [
            "*** Convert a 1D array to a 2D Numpy array ***\n",
            "1D Numpy array:\n",
            "[0 1 2 3 4 5 6 7 8 9]\n",
            "2D Numpy array:\n",
            "[[0 1 2 3 4]\n",
            " [5 6 7 8 9]]\n",
            "Reshaped 2D array is a view of 1D array\n",
            "1d array:\n",
            "[22  1  2  3  4  5  6  7  8  9]\n",
            "1d array:\n",
            "[[22  1  2  3  4]\n",
            " [ 5  6  7  8  9]]\n",
            "Convert a 1d array to a 1d array 1d.reshape()\n",
            "1d array:\n",
            "[ 1  2  3  4  5  6  7  8  9 10 11 12]\n",
            "1d array:\n",
            "[[[ 1  2  3]\n",
            "  [ 4  5  6]]\n",
            "\n",
            " [[ 7  8  9]\n",
            "  [10 11 12]]]\n",
            "*** Convert 1d array to 1d array along the column ***\n",
            "1d array:\n",
            "[0 1 2 3 4 5 6 7 8 9]\n",
            "1d array:\n",
            "[[0 2 4 6 8]\n",
            " [1 3 5 7 9]]\n",
            "*** Convert 2D aray to 1D array as copy ***\n",
            "1d array:\n",
            "[0 1 2 3 4 5 6 7 8 9]\n",
            "1d array:\n",
            "[[0 1 2 3 4]\n",
            " [5 6 7 8 9]]\n",
            "1d array:\n",
            "[0 1 2 3 4 5 6 7 8 9]\n",
            "------------------2D Numpy array is -------------:\n",
            "[[22  1  2  3  4]\n",
            " [ 5  6  7  8  9]]\n"
          ],
          "name": "stdout"
        }
      ]
    }
  ]
}